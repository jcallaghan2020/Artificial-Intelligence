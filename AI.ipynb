{
  "nbformat": 4,
  "nbformat_minor": 0,
  "metadata": {
    "colab": {
      "provenance": [],
      "authorship_tag": "ABX9TyPcOYhG+ZHlDKGYNrUl+7BO",
      "include_colab_link": true
    },
    "kernelspec": {
      "name": "python3",
      "display_name": "Python 3"
    },
    "language_info": {
      "name": "python"
    }
  },
  "cells": [
    {
      "cell_type": "markdown",
      "metadata": {
        "id": "view-in-github",
        "colab_type": "text"
      },
      "source": [
        "<a href=\"https://colab.research.google.com/github/jcallaghan2020/Artificial-Intelligence/blob/main/AI.ipynb\" target=\"_parent\"><img src=\"https://colab.research.google.com/assets/colab-badge.svg\" alt=\"Open In Colab\"/></a>"
      ]
    },
    {
      "cell_type": "code",
      "metadata": {
        "colab": {
          "base_uri": "https://localhost:8080/"
        },
        "id": "e20s9f089tz7",
        "outputId": "7df98551-4938-4242-bf87-8ba9b3de46d0"
      },
      "source": [
        "# List as FIFO (first in, first out)\n",
        "stack = [\"a\", \"b\", \"c\"]\n",
        "\n",
        "# add an element to the end of the list\n",
        "stack.append(\"e\")\n",
        "stack.append(\"f\")\n",
        "print(stack)\n",
        "\n",
        "# pop operation\n",
        "d=stack.pop(0)\n",
        "print(d)\n",
        "print(stack)\n",
        "\n",
        "# pop operation\n",
        "stack.pop(0)\n",
        "print(stack)\n",
        "\n",
        "# push operation\n",
        "stack.append(\"d\")\n",
        "print(stack)"
      ],
      "execution_count": null,
      "outputs": [
        {
          "output_type": "stream",
          "name": "stdout",
          "text": [
            "['a', 'b', 'c', 'e', 'f']\n",
            "a\n",
            "['b', 'c', 'e', 'f']\n",
            "['c', 'e', 'f']\n",
            "['c', 'e', 'f', 'd']\n"
          ]
        }
      ]
    },
    {
      "cell_type": "code",
      "metadata": {
        "colab": {
          "base_uri": "https://localhost:8080/"
        },
        "id": "ruLrLgD5-Ewo",
        "outputId": "fa934ac0-1506-43b1-d5dd-cb1cad3d4fa9"
      },
      "source": [
        "# List as LIFO (least in, first out)\n",
        "stack = [\"a\", \"b\", \"c\"]\n",
        "\n",
        "# add an element to the end of the list\n",
        "stack.insert(0,\"e\")\n",
        "stack.insert(0,\"f\")\n",
        "print(stack)\n",
        "\n",
        "# pop operation\n",
        "stack.pop(0)\n",
        "print(stack)\n",
        "\n",
        "# pop operation\n",
        "stack.pop(0)\n",
        "print(stack)\n",
        "\n",
        "# push operation\n",
        "stack.insert(0,\"d\")\n",
        "print(stack)"
      ],
      "execution_count": null,
      "outputs": [
        {
          "output_type": "stream",
          "name": "stdout",
          "text": [
            "['f', 'e', 'a', 'b', 'c']\n",
            "['e', 'a', 'b', 'c']\n",
            "['a', 'b', 'c']\n",
            "['d', 'a', 'b', 'c']\n"
          ]
        }
      ]
    },
    {
      "cell_type": "code",
      "metadata": {
        "id": "dDKwy4v2-M5Y"
      },
      "source": [
        "class Node():\n",
        "    \"\"\"A search node class for Maze Pathfinding\"\"\"\n",
        "\n",
        "    def __init__(self, parent=None, position=None):\n",
        "        self.parent = parent\n",
        "        self.position = position\n",
        "\n",
        "        self.c = 0  # cost from source to current node\n",
        "\n",
        "    def __eq__(self, other):\n",
        "        return self.position == other.position\n",
        "\n",
        "    def __hash__(self):               #<-- added a hash method\n",
        "        return hash(self.position)\n",
        "\n",
        "\n",
        "def search_path(maze, start, end, method='DFS'):\n",
        "    \"\"\"Returns a list of tuples as a path from the given start to the given end in the given maze\"\"\"\n",
        "\n",
        "    # Create start and end node\n",
        "    start_node = Node(None, start)\n",
        "    start_node.c = 0\n",
        "    end_node = Node(None, end)\n",
        "    end_node.c = 0\n",
        "\n",
        "    # Initialize both open and closed list\n",
        "    open_list = []\n",
        "    closed_list = set()                # <-- closed_list must be a set\n",
        "\n",
        "    # Add the start node\n",
        "    open_list.append(start_node)\n",
        "\n",
        "    # Loop until you find the end\n",
        "    expanded_nodes=0\n",
        "    queue_size=0\n",
        "    while len(open_list) > 0:\n",
        "\n",
        "        # Get the current node\n",
        "        current_node = open_list[0]\n",
        "        current_index = 0\n",
        "\n",
        "        # Pop current off open list, add to closed list\n",
        "        # depending on how the nodes are added to the queue, this will implement either FIFO (BFS), or LIFO (DFS)\n",
        "        open_list.pop(current_index)\n",
        "        closed_list.add(current_node)     # <-- change append to add\n",
        "\n",
        "        # Found the goal\n",
        "        if current_node == end_node:\n",
        "            path = []\n",
        "            current = current_node\n",
        "            while current is not None:\n",
        "                path.append(current.position)\n",
        "                current = current.parent\n",
        "            return(expanded_nodes,queue_size,path[::-1]) # Return reversed path\n",
        "\n",
        "        # Generate children\n",
        "        expanded_nodes=expanded_nodes+1\n",
        "        if(len(open_list)>queue_size):\n",
        "            queue_size=len(open_list)  # check maximum queue size\n",
        "        children = []\n",
        "        for new_position in [(0, -1), (0, 1), (-1, 0), (1, 0), (-1, -1), (-1, 1), (1, -1), (1, 1)]: # Adjacent squares\n",
        "\n",
        "            # Get node position\n",
        "            node_position = (current_node.position[0] + new_position[0], current_node.position[1] + new_position[1])\n",
        "\n",
        "            # Make sure within range\n",
        "            if node_position[0] > (len(maze) - 1) or node_position[0] < 0 or node_position[1] > (len(maze[len(maze)-1]) -1) or node_position[1] < 0:\n",
        "                continue\n",
        "\n",
        "            # Make sure walkable terrain\n",
        "            if maze[node_position[0]][node_position[1]] != 0:\n",
        "                continue\n",
        "\n",
        "            # Create new node\n",
        "            new_node = Node(current_node, node_position)\n",
        "\n",
        "            # Append\n",
        "            children.append(new_node)\n",
        "\n",
        "        # Loop through children\n",
        "        for child in children:\n",
        "\n",
        "            # Child is on the closed list\n",
        "            if child in closed_list:              # <-- remove inner loop so continue takes you to the end of the outer loop\n",
        "                continue\n",
        "\n",
        "            # Create the updated cost values\n",
        "            child.c = current_node.c + 1\n",
        "\n",
        "            # Child is already in the open list\n",
        "            for open_node in open_list:\n",
        "                if child == open_node and child.c > open_node.c:\n",
        "                    continue\n",
        "\n",
        "            # Add the child to the open list\n",
        "            if method=='BFS':\n",
        "                open_list.append(child)\n",
        "            else:\n",
        "                open_list.insert(0,child)"
      ],
      "execution_count": null,
      "outputs": []
    },
    {
      "cell_type": "code",
      "metadata": {
        "colab": {
          "base_uri": "https://localhost:8080/"
        },
        "id": "2ugVfEo8-RoR",
        "outputId": "aae7f7d7-662e-4a5c-b891-bc00c1ddc595"
      },
      "source": [
        "def main():\n",
        "\n",
        "    maze = [[0, 0, 0, 0, 1, 0, 0, 0, 0, 0],\n",
        "            [0, 0, 0, 0, 1, 0, 0, 0, 0, 0],\n",
        "            [0, 0, 0, 0, 1, 0, 0, 0, 0, 0],\n",
        "            [0, 0, 0, 0, 1, 0, 0, 0, 0, 0],\n",
        "            [0, 0, 0, 0, 0, 0, 0, 0, 0, 0],\n",
        "            [0, 0, 0, 0, 1, 0, 0, 0, 0, 0],\n",
        "            [0, 0, 0, 0, 1, 0, 0, 0, 0, 0],\n",
        "            [0, 0, 0, 0, 0, 0, 0, 0, 0, 0],\n",
        "            [0, 0, 0, 0, 1, 0, 0, 0, 0, 0],\n",
        "            [0, 0, 0, 0, 0, 0, 0, 0, 0, 0]]\n",
        "\n",
        "    start = (0, 0)\n",
        "    end = (0, 9)\n",
        "\n",
        "    expanded_nodes,queue_size,path = search_path(maze, start, end,'BFS')\n",
        "    return (expanded_nodes,queue_size,path)\n",
        "\n",
        "print(main())"
      ],
      "execution_count": null,
      "outputs": [
        {
          "output_type": "stream",
          "name": "stdout",
          "text": [
            "(17628, 20191, [(0, 0), (1, 1), (2, 2), (3, 3), (4, 4), (4, 5), (3, 6), (2, 7), (1, 8), (0, 9)])\n"
          ]
        }
      ]
    }
  ]
}